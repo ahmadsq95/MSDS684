{
 "cells": [
  {
   "cell_type": "markdown",
   "id": "641b9d8e",
   "metadata": {},
   "source": [
    "# OpenAI Gym CartPole Environment"
   ]
  },
  {
   "cell_type": "code",
   "execution_count": 28,
   "id": "806d8556",
   "metadata": {},
   "outputs": [
    {
     "data": {
      "text/plain": [
       "array([-0.03304997, -0.00224066,  0.0198406 , -0.00716847], dtype=float32)"
      ]
     },
     "execution_count": 28,
     "metadata": {},
     "output_type": "execute_result"
    }
   ],
   "source": [
    "import random\n",
    "random.seed() # pseudo random number generator seed - here it is None\n",
    "# random.seed(1234) # pseudo random number generator seed - set value for repeatable pseudo random numbers\n",
    "import gym\n",
    "env = gym.make('CartPole-v0')\n",
    "env.reset()"
   ]
  },
  {
   "cell_type": "markdown",
   "id": "78db6e8f",
   "metadata": {},
   "source": [
    "#### Implement a Random Polilcy"
   ]
  },
  {
   "cell_type": "code",
   "execution_count": 29,
   "id": "918e565d",
   "metadata": {
    "tags": []
   },
   "outputs": [
    {
     "name": "stdout",
     "output_type": "stream",
     "text": [
      "[19, 23, 21, 17, 13, 20, 28, 19, 18, 14, 11, 22, 57, 9, 44, 9, 22, 48, 16, 31, 13, 14, 17, 11, 12, 28, 20, 14, 20, 16, 22, 28, 14, 17, 24, 17, 9, 15, 29, 41, 15, 60, 14, 34, 41, 25, 22, 17, 15, 20, 52, 16, 62, 12, 30, 16, 24, 16, 12, 38, 45, 12, 20, 11, 24, 26, 17, 16, 21, 11, 26, 27, 11, 25, 10, 30, 43, 12, 12, 22, 24, 18, 11, 34, 17, 11, 10, 29, 20, 28, 9, 10, 18, 18, 17, 14, 25, 29, 17, 39]\n",
      "Average number of steps: 22.02\n",
      "Min number of steps: 9\n",
      "Max number of steps: 62\n"
     ]
    }
   ],
   "source": [
    "env._max_episode_steps = 200 # default 200, override for what ever value desired\n",
    "num_iter = 100\n",
    "\n",
    "num_steps_list = []\n",
    "\n",
    "for j in range(num_iter):\n",
    "    obs = env.reset()\n",
    "    done = False\n",
    "    num_steps = 0\n",
    "    while not done:\n",
    "        a = random.randint(0,1)\n",
    "        obs, reward, done, _ = env.step(a) \n",
    "        # print(f\"{obs[0]}, {obs[1]}, {obs[2]}, {obs[3]}\")\n",
    "        num_steps += 1\n",
    "    num_steps_list.append(num_steps)     \n",
    "print(num_steps_list)     \n",
    "print(\"Average number of steps:\", sum(num_steps_list)/len(num_steps_list))\n",
    "print(\"Min number of steps:\", min(num_steps_list)) \n",
    "print(\"Max number of steps:\", max(num_steps_list))"
   ]
  },
  {
   "cell_type": "markdown",
   "id": "1c21da30",
   "metadata": {},
   "source": [
    "#### Implement a policy that alternatiely moves left and right using modulus function"
   ]
  },
  {
   "cell_type": "code",
   "execution_count": 30,
   "id": "4cb9eb1a",
   "metadata": {
    "tags": []
   },
   "outputs": [
    {
     "name": "stdout",
     "output_type": "stream",
     "text": [
      "[33, 24, 89, 48, 32, 46, 32, 24, 34, 60, 32, 38, 35, 39, 28, 32, 22, 35, 43, 27, 23, 29, 61, 27, 22, 25, 26, 22, 26, 40, 29, 85, 24, 44, 52, 35, 23, 58, 24, 67, 31, 58, 26, 50, 31, 33, 40, 39, 48, 60, 23, 22, 24, 22, 28, 28, 28, 28, 22, 37, 23, 60, 41, 52, 53, 58, 31, 24, 30, 26, 58, 25, 50, 22, 30, 42, 81, 29, 60, 27, 49, 49, 25, 22, 35, 23, 47, 54, 50, 31, 36, 33, 32, 27, 23, 71, 22, 30, 33, 22]\n",
      "Average number of steps: 37.09\n",
      "Min number of steps: 22\n",
      "Max number of steps: 89\n"
     ]
    }
   ],
   "source": [
    "env._max_episode_steps = 200 # default 200, override for what ever value desired\n",
    "num_iter = 100\n",
    "\n",
    "num_steps_list = []\n",
    "\n",
    "for _ in range(num_iter):\n",
    "    obs = env.reset()\n",
    "    done = False\n",
    "    num_steps = 0\n",
    "    while not done:\n",
    "        a = num_steps%2\n",
    "        obs, reward, done, _ = env.step(a) \n",
    "        #print(f\"{obs[0]}, {obs[1]}, {obs[2]}, {obs[3]}\")\n",
    "        num_steps += 1\n",
    "    num_steps_list.append(num_steps)\n",
    "        \n",
    "print(num_steps_list)     \n",
    "print(\"Average number of steps:\", sum(num_steps_list)/len(num_steps_list))\n",
    "print(\"Min number of steps:\", min(num_steps_list)) \n",
    "print(\"Max number of steps:\", max(num_steps_list))   "
   ]
  },
  {
   "cell_type": "markdown",
   "id": "c31eaa10",
   "metadata": {},
   "source": [
    "Let $a(s,w)$ be the action to take at state $s$. Let $w$ be a four-dimensional vector of random numbers. The inner product of $s$ with $w$ defines action as follows. If the inner produce is greater than 0 then action 1 otherwise action 0. \n",
    "\n",
    "$$\n",
    "a(s,w) = \\left\\{ \n",
    "    \\begin{array}{ll}\n",
    "    0 & \\textsf{\\small if } s \\cdot w \\leq 0 \\\\ \n",
    "    1 & \\textsf{\\small if } s \\cdot w > 0\n",
    "    \\end{array}\n",
    "\\right.\n",
    "$$ \n",
    "\n",
    "Below is the implementation of this function."
   ]
  },
  {
   "cell_type": "code",
   "execution_count": 31,
   "id": "94c39a5e",
   "metadata": {},
   "outputs": [],
   "source": [
    "def action(s, w):\n",
    "    if s.dot(w) > 0:\n",
    "        return 1\n",
    "    else:\n",
    "        return 0\n",
    "    \n",
    "# this function returns a random parameter vector     \n",
    "def get_params(): # generate four random numbers on the interval [-1.0, 1.0)\n",
    "    w = [2*random.random()-1, 2*random.random()-1, 2*random.random()-1, 2*random.random()-1]\n",
    "    return w"
   ]
  },
  {
   "cell_type": "markdown",
   "id": "f8a8ed7f",
   "metadata": {},
   "source": [
    "#### Implement the dot product with random weights policy"
   ]
  },
  {
   "cell_type": "code",
   "execution_count": 32,
   "id": "af0dfa0c",
   "metadata": {
    "tags": []
   },
   "outputs": [
    {
     "name": "stdout",
     "output_type": "stream",
     "text": [
      "0.48845032870940486 -0.6320892407221208 0.5601155045405799 0.18593878458957347\n",
      "0.42757518324517707 -0.12939877812238043 0.9505597566390367 0.40313752159789185\n",
      "0.054171301017226 -0.8357397585234281 0.7944244767879303 0.8968693321402899\n",
      "0.1864027321935251 0.15685145775975617 0.8949912936360285 0.18004394981333927\n",
      "[121, 9, 66, 10, 28, 44, 2500, 100, 90, 140, 66, 11, 57, 8, 14, 10, 8, 41, 80, 8, 9, 9, 9, 10, 38, 26, 10, 10, 9, 2500, 19, 2500, 9, 170, 9, 10, 10, 66, 10, 9, 10, 10, 155, 8, 9, 10, 10, 9, 30, 52, 97, 9, 144, 10, 33, 48, 10, 8, 203, 8, 9, 10, 10, 10, 98, 10, 9, 8, 9, 29, 195, 9, 10, 101, 8, 8, 8, 10, 101, 113, 11, 10, 415, 9, 10, 62, 9, 242, 10, 9, 10, 48, 2500, 105, 12, 9, 8, 9, 38, 10]\n",
      "Average number of steps: 140.27\n",
      "Min number of steps: 8\n",
      "Max number of steps: 2500\n"
     ]
    }
   ],
   "source": [
    "max_episode_steps = 2500\n",
    "env._max_episode_steps = max_episode_steps # default is 200, override for what ever value desired\n",
    "\n",
    "num_steps_list = []\n",
    "\n",
    "num_iter = 100\n",
    "for _ in range(num_iter):\n",
    "    obs = env.reset()\n",
    "    done = False\n",
    "    num_steps = 0\n",
    "    w = get_params()\n",
    "    while not done:\n",
    "        a = action(obs, w)\n",
    "        obs, reward, done, _ = env.step(a) \n",
    "        num_steps += 1\n",
    "        if num_steps == max_episode_steps:\n",
    "            print(w[0],w[1],w[2],w[3])\n",
    "    num_steps_list.append(num_steps)\n",
    "    \n",
    "print(num_steps_list)     \n",
    "print(\"Average number of steps:\", sum(num_steps_list)/len(num_steps_list))\n",
    "print(\"Min number of steps:\", min(num_steps_list)) \n",
    "print(\"Max number of steps:\", max(num_steps_list)) "
   ]
  },
  {
   "cell_type": "code",
   "execution_count": 36,
   "id": "07c9cf90",
   "metadata": {},
   "outputs": [
    {
     "name": "stdout",
     "output_type": "stream",
     "text": [
      "[54, 56, 64, 47, 65, 10000, 65, 49, 72, 10000]\n",
      "Average number of steps: 2047.2\n",
      "Min number of steps: 47\n",
      "Max number of steps: 10000\n"
     ]
    }
   ],
   "source": [
    "max_episode_steps = 10000\n",
    "env._max_episode_steps = max_episode_steps # default is 200, override for what ever value desired\n",
    "\n",
    "num_steps_list = []\n",
    "num_iter = 10\n",
    "for _ in range(num_iter):\n",
    "    obs = env.reset()\n",
    "    done = False\n",
    "    num_steps = 0\n",
    "    w = []\n",
    "    w.append(0.030869458970770758)\n",
    "    w.append(-0.8397563206086962)\n",
    "    w.append(0.600522282843988)\n",
    "    w.append(0.3511940878495676)\n",
    "    while not done:\n",
    "        a = action(obs, w)\n",
    "        obs, reward, done, _ = env.step(a) \n",
    "        num_steps += 1\n",
    "    num_steps_list.append(num_steps)\n",
    "    \n",
    "print(num_steps_list)     \n",
    "print(\"Average number of steps:\", sum(num_steps_list)/len(num_steps_list))\n",
    "print(\"Min number of steps:\", min(num_steps_list)) \n",
    "print(\"Max number of steps:\", max(num_steps_list)) "
   ]
  },
  {
   "cell_type": "code",
   "execution_count": null,
   "id": "6a20c4f7",
   "metadata": {},
   "outputs": [],
   "source": []
  },
  {
   "cell_type": "code",
   "execution_count": null,
   "id": "f2ac10fe",
   "metadata": {},
   "outputs": [],
   "source": []
  }
 ],
 "metadata": {
  "kernelspec": {
   "display_name": "Python 3",
   "language": "python",
   "name": "python3"
  },
  "language_info": {
   "codemirror_mode": {
    "name": "ipython",
    "version": 3
   },
   "file_extension": ".py",
   "mimetype": "text/x-python",
   "name": "python",
   "nbconvert_exporter": "python",
   "pygments_lexer": "ipython3",
   "version": "3.8.10"
  }
 },
 "nbformat": 4,
 "nbformat_minor": 5
}
